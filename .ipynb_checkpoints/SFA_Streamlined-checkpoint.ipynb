{
 "cells": [
  {
   "cell_type": "markdown",
   "metadata": {},
   "source": [
    "# SFA For Monkey Vocalization Identification"
   ]
  },
  {
   "cell_type": "code",
   "execution_count": 1,
   "metadata": {},
   "outputs": [],
   "source": [
    "import numpy as np\n",
    "import matplotlib.pyplot as plt \n",
    "import soundfile as sf \n",
    "import pyfilterbank.gammatone as g\n",
    "import SFA_Tools.SFA_Sets as s\n",
    "import scipy.ndimage.filters as filt\n",
    "from sklearn import svm\n",
    "from sklearn.linear_model import Perceptron\n",
    "from tqdm import tqdm"
   ]
  },
  {
   "cell_type": "markdown",
   "metadata": {},
   "source": [
    "## Initialize Variables"
   ]
  },
  {
   "cell_type": "code",
   "execution_count": 2,
   "metadata": {},
   "outputs": [],
   "source": [
    "## Files for vocalizations and noise\n",
    "load_noise = True\n",
    "noise = None\n",
    "noiselen = 100000\n",
    "vocal_files = ['coo.WAV','grunt.WAV','AG493B.WAV','CS1E54.WAV']\n",
    "noise_file = 'Matlab_SoundTextureSynth/Output_Folder/Bubbling_water_10111010100.wav'\n",
    "num_vocals = len(vocal_files)\n",
    "\n",
    "## Parameters for vocalization and noise preprocessing\n",
    "signal_to_noise_ratio = 50\n",
    "gfb = g.GammatoneFilterbank(order=1, density = 1.0, startband = -21, endband = 21, normfreq = 2200)\n",
    "plot_gammatone_transformed = False\n",
    "plot_temporal_filters = False\n",
    "plot_temporal_transformed = False\n",
    "\n",
    "## Parameters for training data\n",
    "num_samples = num_vocals * 30\n",
    "gaps = True\n",
    "min_gap = 25\n",
    "max_gap = 100\n",
    "apply_noise = True\n",
    "\n",
    "## Parameters for testing data\n",
    "test_noise = True\n",
    "plot_test = True\n"
   ]
  },
  {
   "cell_type": "markdown",
   "metadata": {},
   "source": [
    "## Load In Files Containing Vocalizations And Noise"
   ]
  },
  {
   "cell_type": "code",
   "execution_count": 3,
   "metadata": {},
   "outputs": [],
   "source": [
    "# Read and load vocalizations from a list of files\n",
    "def get_data(file_list):\n",
    "    vocalizations = []\n",
    "    rate = 0\n",
    "    for f in file_list:\n",
    "        vocal, rate = sf.read(f)\n",
    "        vocalizations.append(vocal)\n",
    "    return vocalizations\n",
    "\n",
    "# Compute the average power of a signal\n",
    "def signal_power(sig):\n",
    "    return np.sum(np.square(sig))/sig.size\n",
    "\n",
    "# Scales a noise vector to have a specified signal-to-noise ratio with\n",
    "# another waveform\n",
    "def scale_noise(vocalizations, noise, ratio):\n",
    "    data = np.zeros(1)\n",
    "    for vocal in vocalizations:\n",
    "        data = np.hstack((data,vocal))\n",
    "        \n",
    "    initial_ratio = signal_power(data)/signal_power(noise[:data.size])\n",
    "    return noise * np.sqrt(initial_ratio/ratio)\n",
    "\n",
    "# Applies a gammatone transform with a given filter bank to a waveform\n",
    "def gamma_transform(data, filterbank):\n",
    "    analysed = gfb.analyze(data)\n",
    "    \n",
    "    transformed = np.zeros((len(gfb.centerfrequencies),data.size))\n",
    "    for i in range(len(gfb.centerfrequencies)):\n",
    "        (band,state) = analysed.__next__()\n",
    "        transformed[i] = abs(band)\n",
    "        \n",
    "    return transformed\n",
    "\n",
    "# Applies a gammatone transform with given filter bank to a list of \n",
    "# different waveforms\n",
    "def gamma_transform_list(data, filterbank):\n",
    "    transformed = []\n",
    "    \n",
    "    for d in tqdm(data):\n",
    "        d_transformed = gamma_transform(d, filterbank)\n",
    "        transformed.append(d_transformed)\n",
    "        \n",
    "    return transformed\n",
    "\n",
    "# Plots gammatone transformed vocalizations effectively\n",
    "def plot_input(inp, name):\n",
    "    plt.figure(figsize=(12,3))\n",
    "    plt.title(name)\n",
    "    plt.imshow(inp, aspect = 'auto')\n",
    "    plt.show()\n",
    "    return\n",
    "\n",
    "# Gamma Function\n",
    "def gamma(n, a, b, m):\n",
    "    arr = np.arange(1,n+1)\n",
    "    return a*np.power(arr,m)*(np.exp(-b*arr))\n",
    "\n",
    "# Creates a temporal filter\n",
    "def temporalFilter():\n",
    "    arr = gamma(400,1.5,0.04,2) - gamma(400,1,0.036,2) \n",
    "    arr = arr / np.var(arr)\n",
    "    return arr\n",
    "\n",
    "# Applies list of temporal filters to a transformed vocal\n",
    "def temporal_transform(data,filters):\n",
    "    transformed = None\n",
    "    init = True\n",
    "    for f in filters:\n",
    "        filtered = filt.convolve(data,f[:,None].T)\n",
    "        if(init):\n",
    "            transformed = filtered\n",
    "            init = False\n",
    "        else:\n",
    "            transformed = np.vstack((transformed,filtered))\n",
    "            \n",
    "    return transformed\n",
    "\n",
    "# Applies list of temporal filters to a list of transformed vocals\n",
    "def temporal_transform_list(data,filters):\n",
    "    transformed = []\n",
    "    \n",
    "    for d in tqdm(data):\n",
    "        d_transformed = temporal_transform(d, filters)\n",
    "        transformed.append(d_transformed)\n",
    "        \n",
    "    return transformed\n",
    "\n",
    "def getSF(data,name, mode = 'quad', retain = 20, transform = False):\n",
    "    (data_normalized,mean,variance) = s.norm(data)\n",
    "    print(name, ': Normalization Complete...')\n",
    "    \n",
    "    if (mode == 'quad'):\n",
    "        data_normalized = s.quadExpand(data_normalized)\n",
    "    print(name, ': Nonlinear Expansion Complete...')\n",
    "    \n",
    "    (data_Sphered,data_SS) = s.PCA(data_normalized)\n",
    "    print(name, ': Sphering Complete...')\n",
    "    \n",
    "    weights = s.weights(data_Sphered, retain)    \n",
    "    weights = np.flip(weights.T,0)\n",
    "    print(name, ': Weights Determined...')\n",
    "    \n",
    "    if(transform):\n",
    "        transformed = weights @ data_Sphered\n",
    "        return transformed, mean, variance, data_SS, weights\n",
    "    else:\n",
    "        return mean, variance, data_SS, weights\n",
    "\n",
    "def testSF(data, name, mean, variance, SS, weights, mode = 'quad'):\n",
    "    data_normalized = s.normTest(data, mean, variance) \n",
    "    print(name, ': Normalization Complete...')\n",
    "    \n",
    "    if (mode == 'quad'):\n",
    "        data_normalized = s.quadExpand(data_normalized)\n",
    "    print(name, ': Nonlinear Expansion Complete...')\n",
    "    \n",
    "    data_Sphered = s.PCATest(data_normalized,SS)\n",
    "    print(name, ': Sphering Complete...')\n",
    "    \n",
    "    return weights @ data_Sphered\n",
    "\n"
   ]
  },
  {
   "cell_type": "code",
   "execution_count": 4,
   "metadata": {},
   "outputs": [
    {
     "name": "stdout",
     "output_type": "stream",
     "text": [
      "Vocalizations Loaded...\n",
      "Noises loaded...\n",
      "Ready for preprocessing.\n"
     ]
    }
   ],
   "source": [
    "vocalizations = get_data(vocal_files)\n",
    "print('Vocalizations Loaded...')\n",
    "\n",
    "if(load_noise):\n",
    "    noise, _ = sf.read(noise_file)\n",
    "\n",
    "print('Noises loaded...')\n",
    "print('Ready for preprocessing.')"
   ]
  },
  {
   "cell_type": "markdown",
   "metadata": {},
   "source": [
    "## Preprocess Vocalizations And Noise"
   ]
  },
  {
   "cell_type": "markdown",
   "metadata": {},
   "source": [
    "### Adjusting Noise For Signal To Noise Ratio"
   ]
  },
  {
   "cell_type": "code",
   "execution_count": 5,
   "metadata": {},
   "outputs": [
    {
     "name": "stdout",
     "output_type": "stream",
     "text": [
      "Noise Scaled...\n",
      "Ready For Gammatone Transform\n"
     ]
    }
   ],
   "source": [
    "noise = scale_noise(vocalizations,noise,signal_to_noise_ratio)\n",
    "noise = noise[:noiselen]\n",
    "print('Noise Scaled...')\n",
    "print('Ready For Gammatone Transform')"
   ]
  },
  {
   "cell_type": "markdown",
   "metadata": {},
   "source": [
    "### Apply Gammatone Transform "
   ]
  },
  {
   "cell_type": "code",
   "execution_count": 6,
   "metadata": {},
   "outputs": [
    {
     "name": "stderr",
     "output_type": "stream",
     "text": [
      "100%|██████████| 4/4 [00:00<00:00, 18.39it/s]\n"
     ]
    },
    {
     "name": "stdout",
     "output_type": "stream",
     "text": [
      "Vocalizations Transformed...\n",
      "Noise Transformed...\n",
      "Ready For Temporal Filters\n"
     ]
    }
   ],
   "source": [
    "vocals_transformed = gamma_transform_list(vocalizations, gfb)\n",
    "print('Vocalizations Transformed...')\n",
    "\n",
    "noise_transformed = gamma_transform(noise, gfb)\n",
    "print('Noise Transformed...')\n",
    "\n",
    "if(plot_gammatone_transformed):\n",
    "    for i,vocal in enumerate(vocals_transformed):\n",
    "        plot_input(vocal, vocal_files[i])\n",
    "    plot_input(noise_transformed, 'Noise')\n",
    "    \n",
    "print('Ready For Temporal Filters')"
   ]
  },
  {
   "cell_type": "markdown",
   "metadata": {},
   "source": [
    "### Apply Temporal Filters"
   ]
  },
  {
   "cell_type": "code",
   "execution_count": 7,
   "metadata": {},
   "outputs": [
    {
     "name": "stderr",
     "output_type": "stream",
     "text": [
      "100%|██████████| 4/4 [00:11<00:00,  2.95s/it]\n"
     ]
    },
    {
     "name": "stdout",
     "output_type": "stream",
     "text": [
      "Vocals Temporally Filtered...\n",
      "Noise Temporraly Filtered\n",
      "Ready For SFA\n"
     ]
    }
   ],
   "source": [
    "tFilter = temporalFilter()\n",
    "tFilter2 = np.repeat(tFilter,3)/3\n",
    "tFilters = [tFilter, tFilter2]\n",
    "\n",
    "if(plot_temporal_filters):\n",
    "    plt.plot(tFilter)\n",
    "    plt.plot(tFilter2)\n",
    "    plt.show()\n",
    "\n",
    "vocals_temporal_transformed = temporal_transform_list(vocals_transformed,tFilters)\n",
    "print('Vocals Temporally Filtered...')\n",
    "\n",
    "noise_temporal_transformed = temporal_transform(noise_transformed,tFilters)\n",
    "print('Noise Temporraly Filtered')\n",
    "\n",
    "if(plot_temporal_transformed):\n",
    "    for i,vocal in enumerate(vocals_temporal_transformed):\n",
    "        plot_input(vocal, vocal_files[i])\n",
    "    plot_input(noise_temporal_transformed, 'Noise')\n",
    "\n",
    "print('Ready For SFA')"
   ]
  },
  {
   "cell_type": "markdown",
   "metadata": {},
   "source": [
    "### Create Training Dataset"
   ]
  },
  {
   "cell_type": "code",
   "execution_count": 8,
   "metadata": {},
   "outputs": [
    {
     "name": "stderr",
     "output_type": "stream",
     "text": [
      "100%|██████████| 120/120 [00:00<00:00, 228.98it/s]"
     ]
    },
    {
     "name": "stdout",
     "output_type": "stream",
     "text": [
      "Data arranged...\n",
      "Applied Noise...\n",
      "Ready For SFA\n"
     ]
    },
    {
     "name": "stderr",
     "output_type": "stream",
     "text": [
      "\n"
     ]
    }
   ],
   "source": [
    "samples = np.random.randint(num_vocals, size = num_samples)\n",
    "\n",
    "training_data = None\n",
    "initialized = False\n",
    "for i in tqdm(samples):\n",
    "    if(not(initialized)):\n",
    "        training_data = vocals_temporal_transformed[i]\n",
    "    else:\n",
    "        training_data = np.concatenate((training_data, vocals_temporal_transformed[i]),1)\n",
    "        \n",
    "    if(gaps):\n",
    "        training_data = np.concatenate((training_data, np.zeros((training_data.shape[0], np.random.randint(min_gap,max_gap)))),1)     \n",
    "print('Data arranged...')\n",
    "\n",
    "if(apply_noise):\n",
    "    training_data = training_data + noise_temporal_transformed[:,0:training_data[0].size]\n",
    "    print('Applied Noise...')\n",
    "else:\n",
    "    print('No Noise Applied...')\n",
    "\n",
    "print('Ready For SFA')"
   ]
  },
  {
   "cell_type": "markdown",
   "metadata": {},
   "source": [
    "## Train SFA On Data"
   ]
  },
  {
   "cell_type": "code",
   "execution_count": 9,
   "metadata": {},
   "outputs": [
    {
     "name": "stdout",
     "output_type": "stream",
     "text": [
      "Layer 1 : Normalization Complete...\n",
      "Layer 1 : Nonlinear Expansion Complete...\n",
      "Layer 1 : Sphering Complete...\n",
      "Layer 1 : Weights Determined...\n",
      "SFA Training Complete\n"
     ]
    }
   ],
   "source": [
    "(mean, variance, data_SS, weights) = getSF(training_data, 'Layer 1')\n",
    "\n",
    "print('SFA Training Complete')"
   ]
  },
  {
   "cell_type": "markdown",
   "metadata": {},
   "source": [
    "## Test SFA Results"
   ]
  },
  {
   "cell_type": "markdown",
   "metadata": {},
   "source": [
    "### Create Test Data"
   ]
  },
  {
   "cell_type": "code",
   "execution_count": 10,
   "metadata": {},
   "outputs": [
    {
     "name": "stderr",
     "output_type": "stream",
     "text": [
      "100%|██████████| 4/4 [00:00<00:00, 6964.39it/s]"
     ]
    },
    {
     "name": "stdout",
     "output_type": "stream",
     "text": [
      "Data arranged...\n",
      "Applied Noise...\n"
     ]
    },
    {
     "name": "stderr",
     "output_type": "stream",
     "text": [
      "\n"
     ]
    },
    {
     "data": {
      "image/png": "[encoded data removed]",
      "text/plain": [
       "<Figure size 864x216 with 1 Axes>"
      ]
     },
     "metadata": {
      "needs_background": "light"
     },
     "output_type": "display_data"
    },
    {
     "name": "stdout",
     "output_type": "stream",
     "text": [
      "Testing Data Ready\n"
     ]
    }
   ],
   "source": [
    "samples = np.arange(num_vocals)\n",
    "\n",
    "testing_data = None\n",
    "initialized = False\n",
    "for i in tqdm(samples):\n",
    "    if(not(initialized)):\n",
    "        testing_data = vocals_temporal_transformed[i]\n",
    "    else:\n",
    "        testing_data = np.concatenate((testing_data, vocals_temporal_transformed[i]),1) \n",
    "print('Data arranged...')\n",
    "\n",
    "if(test_noise):\n",
    "    testing_data = testing_data + noise_temporal_transformed[:,0:testing_data[0].size]\n",
    "    print('Applied Noise...')\n",
    "else:\n",
    "    print('No Noise Applied...')\n",
    "\n",
    "if(plot_test):\n",
    "    plot_input(testing_data, 'Testing Data')\n",
    "print('Testing Data Ready')"
   ]
  },
  {
   "cell_type": "code",
   "execution_count": null,
   "metadata": {},
   "outputs": [],
   "source": []
  }
 ],
 "metadata": {
  "kernelspec": {
   "display_name": "Python 3",
   "language": "python",
   "name": "python3"
  },
  "language_info": {
   "codemirror_mode": {
    "name": "ipython",
    "version": 3
   },
   "file_extension": ".py",
   "mimetype": "text/x-python",
   "name": "python",
   "nbconvert_exporter": "python",
   "pygments_lexer": "ipython3",
   "version": "3.7.3"
  }
 },
 "nbformat": 4,
 "nbformat_minor": 2
}
