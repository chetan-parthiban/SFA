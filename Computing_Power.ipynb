{
 "cells": [
  {
   "cell_type": "code",
   "execution_count": 1,
   "metadata": {},
   "outputs": [],
   "source": [
    "import numpy as np\n",
    "import matplotlib.pyplot as plt \n",
    "import soundfile as sf \n",
    "import pyfilterbank.gammatone as g\n",
    "import SFA_Tools.SFA_Sets as s\n",
    "import scipy.ndimage.filters as filt\n",
    "from sklearn import svm\n",
    "from sklearn.linear_model import Perceptron"
   ]
  },
  {
   "cell_type": "code",
   "execution_count": 29,
   "metadata": {},
   "outputs": [],
   "source": [
    "file1 = 'coo.WAV'\n",
    "file2 = 'grunt.WAV'\n",
    "file3 = 'AG493B.WAV'\n",
    "file4 = 'CS1E54.WAV'\n",
    "noisefile = 'Matlab_SoundTextureSynth/Output_Folder/Bubbling_water_10111010100.wav'\n",
    "\n",
    "data1, rate = sf.read(file1)\n",
    "data2, rate = sf.read(file2)\n",
    "data3, rate = sf.read(file3)\n",
    "data4, rate = sf.read(file4)\n",
    "\n",
    "noise, rate = sf.read(noisefile)"
   ]
  },
  {
   "cell_type": "code",
   "execution_count": 23,
   "metadata": {},
   "outputs": [
    {
     "name": "stdout",
     "output_type": "stream",
     "text": [
      "(83267,)\n",
      "(83267,)\n"
     ]
    }
   ],
   "source": [
    "data = np.hstack((data1,data2,data3,data4))\n",
    "noise = noise[:data.size]\n",
    "print(data.shape)\n",
    "print(noise.shape)"
   ]
  },
  {
   "cell_type": "code",
   "execution_count": 19,
   "metadata": {},
   "outputs": [
    {
     "name": "stdout",
     "output_type": "stream",
     "text": [
      "0.04561210241201531\n",
      "0.0004500224892859492\n"
     ]
    }
   ],
   "source": [
    "power_data = np.square(data)\n",
    "data_avgpower = np.sum(power_data)/power_data.size\n",
    "print(data_avgpower)\n",
    "power_noise = np.square(noise)\n",
    "noise_avgpower = np.sum(power_noise)/power_noise.size\n",
    "print(noise_avgpower)"
   ]
  },
  {
   "cell_type": "code",
   "execution_count": 20,
   "metadata": {},
   "outputs": [
    {
     "name": "stdout",
     "output_type": "stream",
     "text": [
      "101.35516223730961\n"
     ]
    }
   ],
   "source": [
    "signal_to_noise = data_avgpower/noise_avgpower\n",
    "print(signal_to_noise)"
   ]
  },
  {
   "cell_type": "code",
   "execution_count": 30,
   "metadata": {},
   "outputs": [
    {
     "name": "stdout",
     "output_type": "stream",
     "text": [
      "(110629,)\n",
      "421.8889980374439\n",
      "49.99999999999998\n"
     ]
    }
   ],
   "source": [
    "def scaled_noise(dataset, noise, ratio):\n",
    "    data = dataset[0]\n",
    "    for d in dataset:\n",
    "        data = np.hstack((data,d))\n",
    "    initial_ratio = np.square(data)/np.square(noise[:data.size])\n",
    "    return noise * np.sqrt(initial_ratio/ratio)\n",
    "\n",
    "ratio = 50\n",
    "dataset = (data1,data2,data3,data4)\n",
    "data = dataset[0]\n",
    "for d in dataset:\n",
    "    data = np.hstack((data,d))\n",
    "print(data.shape)\n",
    "initial_ratio = np.sum(np.square(data))/np.sum(np.square(noise[:data.size]))\n",
    "print(initial_ratio)\n",
    "noise = noise * np.sqrt(initial_ratio/ratio)\n",
    "final_ratio = np.sum(np.square(data))/np.sum(np.square(noise[:data.size]))\n",
    "print(final_ratio)"
   ]
  },
  {
   "cell_type": "code",
   "execution_count": null,
   "metadata": {},
   "outputs": [],
   "source": []
  }
 ],
 "metadata": {
  "kernelspec": {
   "display_name": "Python 3",
   "language": "python",
   "name": "python3"
  },
  "language_info": {
   "codemirror_mode": {
    "name": "ipython",
    "version": 3
   },
   "file_extension": ".py",
   "mimetype": "text/x-python",
   "name": "python",
   "nbconvert_exporter": "python",
   "pygments_lexer": "ipython3",
   "version": "3.7.3"
  }
 },
 "nbformat": 4,
 "nbformat_minor": 2
}
